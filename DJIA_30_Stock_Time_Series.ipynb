{
 "cells": [
  {
   "cell_type": "code",
   "execution_count": 1,
   "id": "a8577e6a",
   "metadata": {},
   "outputs": [],
   "source": [
    "import numpy as np\n",
    "import pandas as pd\n",
    "import matplotlib.pyplot as plt\n",
    "import seaborn as sns"
   ]
  },
  {
   "cell_type": "code",
   "execution_count": 2,
   "id": "8edf6a5c",
   "metadata": {},
   "outputs": [],
   "source": [
    "import glob"
   ]
  },
  {
   "cell_type": "code",
   "execution_count": 3,
   "id": "de0aff86",
   "metadata": {},
   "outputs": [],
   "source": [
    "csv_files = glob.glob('stock-time-series-20050101-to-20171231/*.csv')\n",
    "df_list = [pd.read_csv(file) for file in csv_files]\n",
    "combined_df = pd.concat(df_list, ignore_index=True)"
   ]
  },
  {
   "cell_type": "code",
   "execution_count": 4,
   "id": "59812f23",
   "metadata": {},
   "outputs": [],
   "source": [
    "common_columns = ['Date', 'Open', 'High', 'Low', 'Close', 'Volume']\n",
    "df_list = [pd.read_csv(file)[common_columns] for file in csv_files]"
   ]
  },
  {
   "cell_type": "code",
   "execution_count": 5,
   "id": "59015f5d",
   "metadata": {},
   "outputs": [],
   "source": [
    "combined_df['Date'] = pd.to_datetime(combined_df['Date'])\n",
    "combined_df = combined_df.sort_values('Date').reset_index(drop=True)"
   ]
  },
  {
   "cell_type": "code",
   "execution_count": 6,
   "id": "caa543f1",
   "metadata": {},
   "outputs": [
    {
     "name": "stdout",
     "output_type": "stream",
     "text": [
      "<class 'pandas.core.frame.DataFrame'>\n",
      "RangeIndex: 195005 entries, 0 to 195004\n",
      "Data columns (total 7 columns):\n",
      " #   Column  Non-Null Count   Dtype         \n",
      "---  ------  --------------   -----         \n",
      " 0   Date    195005 non-null  datetime64[ns]\n",
      " 1   Open    194931 non-null  float64       \n",
      " 2   High    194976 non-null  float64       \n",
      " 3   Low     194946 non-null  float64       \n",
      " 4   Close   195005 non-null  float64       \n",
      " 5   Volume  195005 non-null  int64         \n",
      " 6   Name    195005 non-null  object        \n",
      "dtypes: datetime64[ns](1), float64(4), int64(1), object(1)\n",
      "memory usage: 10.4+ MB\n"
     ]
    }
   ],
   "source": [
    "combined_df.info()\n"
   ]
  },
  {
   "cell_type": "code",
   "execution_count": 7,
   "id": "d0ab0c6c",
   "metadata": {},
   "outputs": [],
   "source": [
    "combined_df.ffill(inplace=True)\n",
    "#combined_df.isnull().sum()\n"
   ]
  },
  {
   "cell_type": "code",
   "execution_count": 8,
   "id": "f929b28b",
   "metadata": {},
   "outputs": [
    {
     "data": {
      "text/html": [
       "<div>\n",
       "<style scoped>\n",
       "    .dataframe tbody tr th:only-of-type {\n",
       "        vertical-align: middle;\n",
       "    }\n",
       "\n",
       "    .dataframe tbody tr th {\n",
       "        vertical-align: top;\n",
       "    }\n",
       "\n",
       "    .dataframe thead th {\n",
       "        text-align: right;\n",
       "    }\n",
       "</style>\n",
       "<table border=\"1\" class=\"dataframe\">\n",
       "  <thead>\n",
       "    <tr style=\"text-align: right;\">\n",
       "      <th></th>\n",
       "      <th>Date</th>\n",
       "      <th>Open</th>\n",
       "      <th>High</th>\n",
       "      <th>Low</th>\n",
       "      <th>Close</th>\n",
       "      <th>Volume</th>\n",
       "      <th>Name</th>\n",
       "    </tr>\n",
       "  </thead>\n",
       "  <tbody>\n",
       "    <tr>\n",
       "      <th>0</th>\n",
       "      <td>2006-01-03</td>\n",
       "      <td>39.69</td>\n",
       "      <td>41.22</td>\n",
       "      <td>38.79</td>\n",
       "      <td>40.91</td>\n",
       "      <td>24232729</td>\n",
       "      <td>AABA</td>\n",
       "    </tr>\n",
       "    <tr>\n",
       "      <th>1</th>\n",
       "      <td>2006-01-03</td>\n",
       "      <td>126.70</td>\n",
       "      <td>129.44</td>\n",
       "      <td>124.23</td>\n",
       "      <td>128.87</td>\n",
       "      <td>6188700</td>\n",
       "      <td>GS</td>\n",
       "    </tr>\n",
       "    <tr>\n",
       "      <th>2</th>\n",
       "      <td>2006-01-03</td>\n",
       "      <td>17.21</td>\n",
       "      <td>17.49</td>\n",
       "      <td>17.18</td>\n",
       "      <td>17.45</td>\n",
       "      <td>55432166</td>\n",
       "      <td>CSCO</td>\n",
       "    </tr>\n",
       "    <tr>\n",
       "      <th>3</th>\n",
       "      <td>2006-01-03</td>\n",
       "      <td>40.39</td>\n",
       "      <td>41.45</td>\n",
       "      <td>39.77</td>\n",
       "      <td>41.24</td>\n",
       "      <td>8960100</td>\n",
       "      <td>HD</td>\n",
       "    </tr>\n",
       "    <tr>\n",
       "      <th>4</th>\n",
       "      <td>2006-01-03</td>\n",
       "      <td>82.45</td>\n",
       "      <td>82.55</td>\n",
       "      <td>80.81</td>\n",
       "      <td>82.06</td>\n",
       "      <td>11715200</td>\n",
       "      <td>IBM</td>\n",
       "    </tr>\n",
       "  </tbody>\n",
       "</table>\n",
       "</div>"
      ],
      "text/plain": [
       "        Date    Open    High     Low   Close    Volume  Name\n",
       "0 2006-01-03   39.69   41.22   38.79   40.91  24232729  AABA\n",
       "1 2006-01-03  126.70  129.44  124.23  128.87   6188700    GS\n",
       "2 2006-01-03   17.21   17.49   17.18   17.45  55432166  CSCO\n",
       "3 2006-01-03   40.39   41.45   39.77   41.24   8960100    HD\n",
       "4 2006-01-03   82.45   82.55   80.81   82.06  11715200   IBM"
      ]
     },
     "execution_count": 8,
     "metadata": {},
     "output_type": "execute_result"
    }
   ],
   "source": [
    "combined_df.head()"
   ]
  },
  {
   "cell_type": "code",
   "execution_count": 9,
   "id": "1fccbcf8",
   "metadata": {},
   "outputs": [],
   "source": [
    "combined_df['Date'] = pd.to_datetime(combined_df['Date'])"
   ]
  },
  {
   "cell_type": "code",
   "execution_count": 10,
   "id": "110a6dca",
   "metadata": {},
   "outputs": [
    {
     "data": {
      "text/html": [
       "<div>\n",
       "<style scoped>\n",
       "    .dataframe tbody tr th:only-of-type {\n",
       "        vertical-align: middle;\n",
       "    }\n",
       "\n",
       "    .dataframe tbody tr th {\n",
       "        vertical-align: top;\n",
       "    }\n",
       "\n",
       "    .dataframe thead th {\n",
       "        text-align: right;\n",
       "    }\n",
       "</style>\n",
       "<table border=\"1\" class=\"dataframe\">\n",
       "  <thead>\n",
       "    <tr style=\"text-align: right;\">\n",
       "      <th></th>\n",
       "      <th>Date</th>\n",
       "      <th>Open</th>\n",
       "      <th>High</th>\n",
       "      <th>Low</th>\n",
       "      <th>Close</th>\n",
       "      <th>Volume</th>\n",
       "      <th>Name</th>\n",
       "    </tr>\n",
       "  </thead>\n",
       "  <tbody>\n",
       "    <tr>\n",
       "      <th>0</th>\n",
       "      <td>2006-01-03</td>\n",
       "      <td>39.69</td>\n",
       "      <td>41.22</td>\n",
       "      <td>38.79</td>\n",
       "      <td>40.91</td>\n",
       "      <td>24232729</td>\n",
       "      <td>AABA</td>\n",
       "    </tr>\n",
       "    <tr>\n",
       "      <th>1</th>\n",
       "      <td>2006-01-03</td>\n",
       "      <td>126.70</td>\n",
       "      <td>129.44</td>\n",
       "      <td>124.23</td>\n",
       "      <td>128.87</td>\n",
       "      <td>6188700</td>\n",
       "      <td>GS</td>\n",
       "    </tr>\n",
       "    <tr>\n",
       "      <th>2</th>\n",
       "      <td>2006-01-03</td>\n",
       "      <td>17.21</td>\n",
       "      <td>17.49</td>\n",
       "      <td>17.18</td>\n",
       "      <td>17.45</td>\n",
       "      <td>55432166</td>\n",
       "      <td>CSCO</td>\n",
       "    </tr>\n",
       "    <tr>\n",
       "      <th>3</th>\n",
       "      <td>2006-01-03</td>\n",
       "      <td>40.39</td>\n",
       "      <td>41.45</td>\n",
       "      <td>39.77</td>\n",
       "      <td>41.24</td>\n",
       "      <td>8960100</td>\n",
       "      <td>HD</td>\n",
       "    </tr>\n",
       "    <tr>\n",
       "      <th>4</th>\n",
       "      <td>2006-01-03</td>\n",
       "      <td>82.45</td>\n",
       "      <td>82.55</td>\n",
       "      <td>80.81</td>\n",
       "      <td>82.06</td>\n",
       "      <td>11715200</td>\n",
       "      <td>IBM</td>\n",
       "    </tr>\n",
       "  </tbody>\n",
       "</table>\n",
       "</div>"
      ],
      "text/plain": [
       "        Date    Open    High     Low   Close    Volume  Name\n",
       "0 2006-01-03   39.69   41.22   38.79   40.91  24232729  AABA\n",
       "1 2006-01-03  126.70  129.44  124.23  128.87   6188700    GS\n",
       "2 2006-01-03   17.21   17.49   17.18   17.45  55432166  CSCO\n",
       "3 2006-01-03   40.39   41.45   39.77   41.24   8960100    HD\n",
       "4 2006-01-03   82.45   82.55   80.81   82.06  11715200   IBM"
      ]
     },
     "execution_count": 10,
     "metadata": {},
     "output_type": "execute_result"
    }
   ],
   "source": [
    "combined_df.head()"
   ]
  },
  {
   "cell_type": "code",
   "execution_count": 11,
   "id": "469629ca",
   "metadata": {},
   "outputs": [],
   "source": [
    "#sns.lineplot(data=combined_df, x='Date', y='Close')\n",
    "#plt.title('Stock Closing Prices Over Time')"
   ]
  },
  {
   "cell_type": "code",
   "execution_count": 12,
   "id": "742fb735",
   "metadata": {},
   "outputs": [],
   "source": [
    "#sns.lineplot(data=combined_df[combined_df['Name'] == 'IBM'], x='Date', y='Close')\n",
    "#plt.title('Stock Closing Prices Over Time (IBM)')\n",
    "#plt.show()"
   ]
  },
  {
   "cell_type": "code",
   "execution_count": 13,
   "id": "ae11bb27",
   "metadata": {},
   "outputs": [],
   "source": [
    "from sklearn.model_selection import train_test_split,cross_val_score\n",
    "from sklearn.preprocessing import MinMaxScaler"
   ]
  },
  {
   "cell_type": "code",
   "execution_count": 14,
   "id": "b0ec8048",
   "metadata": {},
   "outputs": [
    {
     "name": "stdout",
     "output_type": "stream",
     "text": [
      "Train size: 4403, Validation size: 943, Test size: 945\n",
      "Validation set: 943 samples (4403 to 5345)\n",
      "Test set: 945 samples (5346 to 6290)\n"
     ]
    }
   ],
   "source": [
    "IBM_df = combined_df[combined_df['Name'] == 'IBM'].copy()\n",
    "IBM_df['Date'] = pd.to_datetime(IBM_df['Date'])\n",
    "\n",
    "IBM_df = IBM_df.sort_values('Date').reset_index(drop=True)\n",
    "\n",
    "X = IBM_df.drop(columns=['Date', 'Close','Name'])\n",
    "y = IBM_df['Close']\n",
    "\n",
    "n=len(IBM_df)\n",
    "train_size = int(n * 0.7)\n",
    "val_size = int(n * 0.15)\n",
    "test_size = n - train_size - val_size\n",
    "\n",
    "X_train = X[:train_size]\n",
    "y_train = y[:train_size]\n",
    "X_val = X[train_size:train_size + val_size]\n",
    "y_val = y[train_size:train_size + val_size]\n",
    "X_test = X[train_size + val_size:]\n",
    "y_test = y[train_size + val_size:]\n",
    "\n",
    "print(f\"Train size: {len(X_train)}, Validation size: {len(X_val)}, Test size: {len(X_test)}\")\n",
    "print(f\"Validation set: {len(X_val)} samples ({X_val.index[0]} to {X_val.index[-1]})\")\n",
    "print(f\"Test set: {len(X_test)} samples ({X_test.index[0]} to {X_test.index[-1]})\")\n",
    "\n",
    "scaler = MinMaxScaler(feature_range=(0, 1))\n",
    "X_train_scaled = scaler.fit_transform(X_train.values.reshape(-1, 1))\n",
    "X_val_scaled = scaler.transform(X_val.values.reshape(-1, 1))\n",
    "X_test_scaled = scaler.transform(X_test.values.reshape(-1, 1))\n"
   ]
  },
  {
   "cell_type": "code",
   "execution_count": 16,
   "id": "068e2c9e",
   "metadata": {},
   "outputs": [],
   "source": [
    "def create_sequences(data, seq_length):\n",
    "    xs ,ys = [], []\n",
    "    for i in range(len(data) - seq_length):\n",
    "        x = data[i:(i + seq_length)]\n",
    "        y = data[i + seq_length]\n",
    "        xs.append(x)\n",
    "        ys.append(y)\n",
    "    return np.array(xs), np.array(ys)\n",
    "\n",
    "SEQ_LENGTH = 60\n",
    "X_train_seq, y_train_seq = create_sequences(X_train_scaled, SEQ_LENGTH)\n",
    "X_val_seq, y_val_seq = create_sequences(X_val_scaled, SEQ_LENGTH)\n",
    "X_test_seq, y_test_seq = create_sequences(X_test_scaled, SEQ_LENGTH)\n",
    "\n",
    "# Reshape for PyTorch LSTM: (batch_size, seq_length, num_features)\n",
    "# If only using 'Close' price, num_features = 1\n",
    "X_train_seq = X_train_seq.reshape(X_train_seq.shape[0], X_train_seq.shape[1], 1)\n",
    "X_val_seq = X_val_seq.reshape(X_val_seq.shape[0], X_val_seq.shape[1], 1)\n",
    "X_test_seq = X_test_seq.reshape(X_test_seq.shape[0], X_test_seq.shape[1], 1)"
   ]
  },
  {
   "cell_type": "code",
   "execution_count": 17,
   "id": "8b5ed6fc",
   "metadata": {},
   "outputs": [],
   "source": [
    "import torch\n",
    "from torch.utils.data import DataLoader, TensorDataset\n",
    "\n",
    "X_train_tensor = torch.FloatTensor(X_train_seq)\n",
    "y_train_tensor = torch.FloatTensor(y_train_seq)\n",
    "X_val_tensor = torch.FloatTensor(X_val_seq)\n",
    "y_val_tensor = torch.FloatTensor(y_val_seq)\n",
    "X_test_tensor = torch.FloatTensor(X_test_seq)\n",
    "y_test_tensor = torch.FloatTensor(y_test_seq)\n",
    "\n",
    "train_dataset = TensorDataset(X_train_tensor, y_train_tensor)\n",
    "val_dataset = TensorDataset(X_val_tensor, y_val_tensor)\n",
    "\n",
    "batch_size = 32\n",
    "\n",
    "train_loader = DataLoader(train_dataset, batch_size=batch_size, shuffle=True)\n",
    "val_loader = DataLoader(val_dataset, batch_size=batch_size, shuffle=False)\n"
   ]
  },
  {
   "cell_type": "code",
   "execution_count": null,
   "id": "74b4954c",
   "metadata": {},
   "outputs": [],
   "source": []
  }
 ],
 "metadata": {
  "kernelspec": {
   "display_name": "My_conda",
   "language": "python",
   "name": "python3"
  },
  "language_info": {
   "codemirror_mode": {
    "name": "ipython",
    "version": 3
   },
   "file_extension": ".py",
   "mimetype": "text/x-python",
   "name": "python",
   "nbconvert_exporter": "python",
   "pygments_lexer": "ipython3",
   "version": "3.9.21"
  }
 },
 "nbformat": 4,
 "nbformat_minor": 5
}
